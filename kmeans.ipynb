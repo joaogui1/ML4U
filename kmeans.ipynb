{
 "cells": [
  {
   "cell_type": "code",
   "execution_count": null,
   "metadata": {},
   "outputs": [],
   "source": [
    "kmeans <- function(dataset, clusters=2, threshold = 1e-3){\n",
    "    dataset = as.matrix(dataset)\n",
    "    ids = sample(1:nrow(dataset), size=clusters)\n",
    "    centers = dataset[ids, ]\n",
    "    closest = rep(0, nrow)\n",
    "    div = 2*threshhold\n",
    "    while(div > threshold){\n",
    "        div = 0\n",
    "        \n",
    "        for(i in 1:nrow(dataset)){\n",
    "            row = dataset[i,]\n",
    "            euclidean = apply(centers, 1, function(c1){\n",
    "                sqrt(sum((row - c11)^2))\n",
    "            })\n",
    "            id = sort(list(euclidean, dec=F))[1]\n",
    "            closest[i] = id\n",
    "        }\n",
    "\n",
    "        old = centers\n",
    "        for(i in 1:clusters){\n",
    "            id = which(closest == i)\n",
    "            centers[i,] = colMeans(dataset[id,])\n",
    "        }\n",
    "        \n",
    "        div = sqrt(sum((old - centers)^2))\n",
    "        print(div)\n",
    "    }\n",
    "    return (centers)\n",
    "}"
   ]
  },
  {
   "cell_type": "code",
   "execution_count": null,
   "metadata": {},
   "outputs": [],
   "source": [
    "iris = read.table(\"iris.data\", sep=\",\")"
   ]
  },
  {
   "cell_type": "code",
   "execution_count": null,
   "metadata": {},
   "outputs": [],
   "source": [
    "kmeans(iris[,1:4], clusters = 3, threshold=0.1)"
   ]
  }
 ],
 "metadata": {
  "kernelspec": {
   "display_name": "R",
   "language": "R",
   "name": "ir"
  },
  "language_info": {
   "codemirror_mode": "r",
   "file_extension": ".r",
   "mimetype": "text/x-r-source",
   "name": "R",
   "pygments_lexer": "r",
   "version": "3.4.4"
  }
 },
 "nbformat": 4,
 "nbformat_minor": 2
}
